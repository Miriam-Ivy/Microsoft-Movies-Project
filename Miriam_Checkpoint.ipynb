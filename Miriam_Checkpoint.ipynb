{
  "cells": [
    {
      "cell_type": "markdown",
      "metadata": {
        "id": "view-in-github",
        "colab_type": "text"
      },
      "source": [
        "<a href=\"https://colab.research.google.com/github/Miriam-Ivy/Microsoft-Movies-Project/blob/master/Miriam_Checkpoint.ipynb\" target=\"_parent\"><img src=\"https://colab.research.google.com/assets/colab-badge.svg\" alt=\"Open In Colab\"/></a>"
      ]
    },
    {
      "cell_type": "markdown",
      "metadata": {
        "deletable": false,
        "editable": false,
        "nbgrader": {
          "cell_type": "markdown",
          "checksum": "2e899ab3ceb031d30f9e98588a7834a5",
          "grade": false,
          "grade_id": "cell-406d340d7286364c",
          "locked": true,
          "schema_version": 3,
          "solution": false,
          "task": false
        },
        "id": "jZvthGmBkcqD"
      },
      "source": [
        "# Phase 2 Code Challenge\n",
        "\n",
        "This code challenge is designed to test your understanding of the Phase 2 material. It covers:\n",
        "\n",
        "- Normal Distribution\n",
        "- Statistical Tests\n",
        "- Bayesian Statistics\n",
        "- Linear Regression\n",
        "\n",
        "_Read the instructions carefully_. You will be asked both to write code and to answer short answer questions.\n",
        "\n",
        "## Code Tests\n",
        "\n",
        "We have provided some code tests for you to run to check that your work meets the item specifications. Passing these tests does not necessarily mean that you have gotten the item correct - there are additional hidden tests. However, if any of the tests do not pass, this tells you that your code is incorrect and needs changes to meet the specification. To determine what the issue is, read the comments in the code test cells, the error message you receive, and the item instructions.\n",
        "\n",
        "## Short Answer Questions\n",
        "\n",
        "For the short answer questions...\n",
        "\n",
        "* _Use your own words_. It is OK to refer to outside resources when crafting your response, but _do not copy text from another source_.\n",
        "\n",
        "* _Communicate clearly_. We are not grading your writing skills, but you can only receive full credit if your teacher is able to fully understand your response.\n",
        "\n",
        "* _Be concise_. You should be able to answer most short answer questions in a sentence or two. Writing unnecessarily long answers increases the risk of you being unclear or saying something incorrect."
      ]
    },
    {
      "cell_type": "code",
      "execution_count": 2,
      "metadata": {
        "deletable": false,
        "editable": false,
        "nbgrader": {
          "cell_type": "code",
          "checksum": "2f10745d7f7c2557bc76f7221425820f",
          "grade": false,
          "grade_id": "cell-d04c1470087d31aa",
          "locked": true,
          "schema_version": 3,
          "solution": false,
          "task": false
        },
        "id": "7__wjE7YkcqI"
      },
      "outputs": [],
      "source": [
        "# Run this cell without changes to import the necessary libraries\n",
        "\n",
        "import itertools\n",
        "import numpy as np\n",
        "import pandas as pd\n",
        "from numbers import Number\n",
        "from scipy import stats\n",
        "import matplotlib.pyplot as plt\n",
        "import seaborn as sns\n",
        "%matplotlib inline\n",
        "\n",
        "import pickle"
      ]
    },
    {
      "cell_type": "markdown",
      "metadata": {
        "id": "n1EAvP94kcqJ"
      },
      "source": [
        "---\n",
        "## Part 1: Normal Distribution [Suggested time: 20 minutes]\n",
        "---\n",
        "In this part, you will analyze check totals at a TexMex restaurant. We know that the population distribution of check totals for the TexMex restaurant is normally distributed with a mean of \\\\$20 and a standard deviation of \\\\$3."
      ]
    },
    {
      "cell_type": "markdown",
      "metadata": {
        "deletable": false,
        "editable": false,
        "nbgrader": {
          "cell_type": "markdown",
          "checksum": "293520be5095ed31ee986d5f8cc8de84",
          "grade": false,
          "grade_id": "cell-46b6b6254aeeff59",
          "locked": true,
          "schema_version": 3,
          "solution": false,
          "task": false
        },
        "id": "YUiD2-XNkcqK"
      },
      "source": [
        "### 1.1) Create a numeric variable `z_score_26` containing the z-score for a \\\\$26 check."
      ]
    },
    {
      "cell_type": "markdown",
      "metadata": {
        "deletable": false,
        "editable": false,
        "nbgrader": {
          "cell_type": "markdown",
          "checksum": "472b18b81d666032fc9cc93650a3fd66",
          "grade": false,
          "grade_id": "cell-ef9660b9613a17a4",
          "locked": true,
          "schema_version": 3,
          "solution": false,
          "task": false
        },
        "id": "_SZXDMickcqK"
      },
      "source": [
        "**Starter Code**\n",
        "\n",
        "    z_score_26 = 2"
      ]
    },
    {
      "cell_type": "code",
      "execution_count": null,
      "metadata": {
        "deletable": false,
        "nbgrader": {
          "cell_type": "code",
          "checksum": "9912b64158ba28ed745f6c8e8b174bb9",
          "grade": false,
          "grade_id": "cell-b947773fd0a27e5d",
          "locked": false,
          "schema_version": 3,
          "solution": true,
          "task": false
        },
        "colab": {
          "base_uri": "https://localhost:8080/"
        },
        "id": "W7OsoyRHkcqK",
        "outputId": "21bbff61-3b72-4713-ea1c-fecc8a55f560"
      },
      "outputs": [
        {
          "output_type": "stream",
          "name": "stdout",
          "text": [
            "Z-score for a $26 check: 2.0\n"
          ]
        }
      ],
      "source": [
        "# YOUR CODE HERE\n",
        "# Import necessary libraries\n",
        "import numpy as np\n",
        "\n",
        "mean = 20\n",
        "std_dev = 3\n",
        "check_value = 26\n",
        "\n",
        "z_score_26 = (check_value - mean) / std_dev\n",
        "\n",
        "print(\"Z-score for a $26 check:\", z_score_26)\n",
        "\n"
      ]
    },
    {
      "cell_type": "code",
      "execution_count": null,
      "metadata": {
        "deletable": false,
        "editable": false,
        "nbgrader": {
          "cell_type": "code",
          "checksum": "7e9d5f2e8a5e557223708b9ca75aa98e",
          "grade": true,
          "grade_id": "cell-a72f04fffcbada78",
          "locked": true,
          "points": 1,
          "schema_version": 3,
          "solution": false,
          "task": false
        },
        "id": "Xugr4UmfkcqK"
      },
      "outputs": [],
      "source": [
        "# This test confirms that you have created a numeric variable named z_score_26\n",
        "\n",
        "assert isinstance(z_score_26, Number)\n"
      ]
    },
    {
      "cell_type": "markdown",
      "metadata": {
        "deletable": false,
        "editable": false,
        "nbgrader": {
          "cell_type": "markdown",
          "checksum": "bd4be1900a2f0b77b1704d7e5ac1926b",
          "grade": false,
          "grade_id": "cell-42d5460165295bb7",
          "locked": true,
          "schema_version": 3,
          "solution": false,
          "task": false
        },
        "id": "4hmfBOMGkcqL"
      },
      "source": [
        "### 1.2) Create a numeric variable `p_under_26` containing the approximate proportion of all checks that are less than \\\\$26.\n",
        "\n",
        "Hint: Use the answer from the previous question along with the empirical rule, a Python function, or this [z-table](https://www.math.arizona.edu/~rsims/ma464/standardnormaltable.pdf)."
      ]
    },
    {
      "cell_type": "markdown",
      "metadata": {
        "deletable": false,
        "editable": false,
        "nbgrader": {
          "cell_type": "markdown",
          "checksum": "8109c6472c75cae09e71929b8c453b3e",
          "grade": false,
          "grade_id": "cell-999dca2e2a1e09ba",
          "locked": true,
          "schema_version": 3,
          "solution": false,
          "task": false
        },
        "id": "knBDf99tkcqL"
      },
      "source": [
        "**Starter Code**\n",
        "\n",
        "    p_under_26 = 0.978"
      ]
    },
    {
      "cell_type": "code",
      "execution_count": null,
      "metadata": {
        "deletable": false,
        "nbgrader": {
          "cell_type": "code",
          "checksum": "0405c61a0d4286b7d4293bd11a3d3f06",
          "grade": false,
          "grade_id": "cell-a223448d6f75a998",
          "locked": false,
          "schema_version": 3,
          "solution": true,
          "task": false
        },
        "colab": {
          "base_uri": "https://localhost:8080/"
        },
        "id": "QA_kUvkOkcqL",
        "outputId": "0bf99454-9732-4e8b-848d-83f5ae46f336"
      },
      "outputs": [
        {
          "output_type": "stream",
          "name": "stdout",
          "text": [
            "Approximate proportion of checks less than $26: 0.9772498680518208\n"
          ]
        }
      ],
      "source": [
        "# YOUR CODE HERE\n",
        "\n",
        "from scipy import stats\n",
        "\n",
        "mean = 20\n",
        "std_dev = 3\n",
        "check_value = 26\n",
        "\n",
        "p_under_26 = norm.cdf(check_value, loc=mean, scale=std_dev)\n",
        "\n",
        "print(\"Approximate proportion of checks less than $26:\", p_under_26)\n",
        "\n"
      ]
    },
    {
      "cell_type": "code",
      "execution_count": null,
      "metadata": {
        "deletable": false,
        "editable": false,
        "nbgrader": {
          "cell_type": "code",
          "checksum": "e38a6504951cce5044ccc9813814f3ce",
          "grade": true,
          "grade_id": "cell-626d2e6dea5a86ac",
          "locked": true,
          "points": 1,
          "schema_version": 3,
          "solution": false,
          "task": false
        },
        "id": "-lX_i68tkcqM"
      },
      "outputs": [],
      "source": [
        "# This test confirms that you have created a numeric variable named p_under_26\n",
        "\n",
        "assert isinstance(p_under_26, Number)\n",
        "\n",
        "# These tests confirm that p_under_26 is a value between 0 and 1\n",
        "\n",
        "assert p_under_26 >= 0\n",
        "assert p_under_26 <= 1\n"
      ]
    },
    {
      "cell_type": "markdown",
      "metadata": {
        "deletable": false,
        "editable": false,
        "nbgrader": {
          "cell_type": "markdown",
          "checksum": "591067efa5a67d68e9496a9687c16b35",
          "grade": false,
          "grade_id": "cell-b20994e953b823df",
          "locked": true,
          "schema_version": 3,
          "solution": false,
          "task": false
        },
        "id": "3gBAHVYKkcqM"
      },
      "source": [
        "### 1.3) Create numeric variables `conf_low` and `conf_high` containing the lower and upper bounds (respectively) of a 95% confidence interval for the mean of one waiter's check amounts using the information below.\n",
        "\n",
        "One week, a waiter gets 100 checks with a mean of \\\\$19 and a standard deviation of \\\\$3."
      ]
    },
    {
      "cell_type": "markdown",
      "metadata": {
        "deletable": false,
        "editable": false,
        "nbgrader": {
          "cell_type": "markdown",
          "checksum": "5d5e3fb5066b84c6c0380e778ed888c5",
          "grade": false,
          "grade_id": "cell-a4925898f2c5bfb5",
          "locked": true,
          "schema_version": 3,
          "solution": false,
          "task": false
        },
        "id": "G4u5ANZikcqM"
      },
      "source": [
        "**Starter Code**\n",
        "\n",
        "    n = 100\n",
        "    mean = 19\n",
        "    std = 3\n",
        "    \n",
        "    conf_low = 18.412\n",
        "    conf_high = 19.588"
      ]
    },
    {
      "cell_type": "code",
      "execution_count": null,
      "metadata": {
        "deletable": false,
        "nbgrader": {
          "cell_type": "code",
          "checksum": "72d2d82f36582251865888f3cf0535dd",
          "grade": false,
          "grade_id": "cell-fb0a963f092cb64d",
          "locked": false,
          "schema_version": 3,
          "solution": true,
          "task": false
        },
        "colab": {
          "base_uri": "https://localhost:8080/"
        },
        "id": "bUeZWIKfkcqM",
        "outputId": "7d6ae5a4-a5f9-4cd3-931d-a7c7f155dc09"
      },
      "outputs": [
        {
          "output_type": "stream",
          "name": "stdout",
          "text": [
            "Lower bound of the 95% confidence interval: 18.412010804637983\n",
            "Upper bound of the 95% confidence interval: 19.587989195362017\n"
          ]
        }
      ],
      "source": [
        "# YOUR CODE HERE\n",
        "import numpy as np\n",
        "from scipy import stats\n",
        "\n",
        "# Given values\n",
        "sample_mean = 19\n",
        "sample_std_dev = 3\n",
        "sample_size = 100\n",
        "confidence_level = 0.95\n",
        "\n",
        "z_score = norm.ppf((1 + confidence_level) / 2)\n",
        "\n",
        "standard_error = sample_std_dev / np.sqrt(sample_size)\n",
        "\n",
        "margin_of_error = z_score * standard_error\n",
        "\n",
        "conf_low = sample_mean - margin_of_error\n",
        "conf_high = sample_mean + margin_of_error\n",
        "\n",
        "print(\"Lower bound of the 95% confidence interval:\", conf_low)\n",
        "print(\"Upper bound of the 95% confidence interval:\", conf_high)\n",
        "\n",
        "\n",
        "\n"
      ]
    },
    {
      "cell_type": "code",
      "execution_count": null,
      "metadata": {
        "deletable": false,
        "editable": false,
        "nbgrader": {
          "cell_type": "code",
          "checksum": "73bf4a89139efcc1aa62b0071d2a0501",
          "grade": true,
          "grade_id": "cell-d995ba92d5f4f1f3",
          "locked": true,
          "points": 1,
          "schema_version": 3,
          "solution": false,
          "task": false
        },
        "colab": {
          "base_uri": "https://localhost:8080/"
        },
        "id": "FVQ5W9JkkcqN",
        "outputId": "e1c5afc9-7506-47c7-9aec-768dd2b13785"
      },
      "outputs": [
        {
          "output_type": "stream",
          "name": "stdout",
          "text": [
            "The lower bound of the 95% confidence interval is 18.412010804637983\n",
            "The upper bound of the 95% confidence interval is 19.587989195362017\n"
          ]
        }
      ],
      "source": [
        "# These tests confirm that you have created numeric variables named conf_low and conf_high\n",
        "\n",
        "assert isinstance(conf_low, Number)\n",
        "assert isinstance(conf_high, Number)\n",
        "\n",
        "# This test confirms that conf_low is below conf_high\n",
        "\n",
        "assert conf_low < conf_high\n",
        "\n",
        "# These statements print your answers for reference to help answer the next question\n",
        "\n",
        "print('The lower bound of the 95% confidence interval is {}'.format(conf_low))\n",
        "print('The upper bound of the 95% confidence interval is {}'.format(conf_high))\n"
      ]
    },
    {
      "cell_type": "markdown",
      "metadata": {
        "deletable": false,
        "editable": false,
        "nbgrader": {
          "cell_type": "markdown",
          "checksum": "9fc7324cd1d52fcdb9aaf9fcf580071d",
          "grade": false,
          "grade_id": "cell-fb9ed0f70c9bd8de",
          "locked": true,
          "schema_version": 3,
          "solution": false,
          "task": false
        },
        "id": "UqvoLSdLkcqN"
      },
      "source": [
        "### 1.4) Short Answer: Interpret the 95% confidence interval you just calculated in Question 1.3."
      ]
    },
    {
      "cell_type": "markdown",
      "metadata": {
        "deletable": false,
        "nbgrader": {
          "cell_type": "markdown",
          "checksum": "009c3644b9cd34be8aa776702fa0a166",
          "grade": true,
          "grade_id": "cell-8212712ac7485fa9",
          "locked": false,
          "points": 1,
          "schema_version": 3,
          "solution": true,
          "task": false
        },
        "id": "xoeFlfInkcqN"
      },
      "source": [
        "The 95% confidence interval suggests that we are 95% confident that the true mean of the waiter's check amounts falls within the range of $ -19 and  $ +19 margin of error.\n",
        "\n",
        "\n",
        "\n",
        "\n",
        "\n",
        "\n"
      ]
    },
    {
      "cell_type": "markdown",
      "metadata": {
        "deletable": false,
        "editable": false,
        "nbgrader": {
          "cell_type": "markdown",
          "checksum": "b36b4420dbafde7c4fb28c5818e24435",
          "grade": false,
          "grade_id": "cell-782ab283e22ce5ae",
          "locked": true,
          "schema_version": 3,
          "solution": false,
          "task": false
        },
        "id": "3ZJptj7jkcqN"
      },
      "source": [
        "---\n",
        "## Part 2: Statistical Testing [Suggested time: 20 minutes]\n",
        "---\n",
        "The TexMex restaurant recently introduced queso to its menu.\n",
        "\n",
        "We have a random sample containing 2000 check totals, all from different customers: 1000 check totals for orders without queso (\"no queso\") and 1000 check totals for orders with queso (\"queso\").\n",
        "\n",
        "In the cell below, we load the sample data for you into the arrays `no_queso` and `queso` for the \"no queso\" and \"queso\" order check totals, respectively."
      ]
    },
    {
      "cell_type": "code",
      "execution_count": 3,
      "metadata": {
        "deletable": false,
        "editable": false,
        "nbgrader": {
          "cell_type": "code",
          "checksum": "5eb54e2799f823e8d5f719d2fffa5437",
          "grade": false,
          "grade_id": "cell-fdba1826c45c244d",
          "locked": true,
          "schema_version": 3,
          "solution": false,
          "task": false
        },
        "id": "TNmuYUW8kcqN"
      },
      "outputs": [],
      "source": [
        "# Run this cell without changes\n",
        "\n",
        "# Load the sample data\n",
        "no_queso = pickle.load(open('/content/queso.pkl', 'rb'))\n",
        "queso = pickle.load(open('/content/queso.pkl', 'rb'))"
      ]
    },
    {
      "cell_type": "markdown",
      "metadata": {
        "deletable": false,
        "editable": false,
        "nbgrader": {
          "cell_type": "markdown",
          "checksum": "f6c45a516db19e67cc6c2af5ad8de3a8",
          "grade": false,
          "grade_id": "cell-05f7dc82e438a77f",
          "locked": true,
          "schema_version": 3,
          "solution": false,
          "task": false
        },
        "id": "9jYCmaK5kcqO"
      },
      "source": [
        "### 2.1) Short Answer: State null and alternative hypotheses to use for testing whether customers who order queso spend different amounts of money from customers who do not order queso."
      ]
    },
    {
      "cell_type": "markdown",
      "metadata": {
        "deletable": false,
        "nbgrader": {
          "cell_type": "markdown",
          "checksum": "94c3f76910993c7e9b447b61376fd65a",
          "grade": true,
          "grade_id": "cell-1992605f4c2b8751",
          "locked": false,
          "points": 1,
          "schema_version": 3,
          "solution": true,
          "task": false
        },
        "id": "w85EwnKrkcqO"
      },
      "source": [
        "We use a two-tailed hypothesis test using the Null and Alternative hypothesis to determine whether there is a significant difference in the average check totals between customers who order queso and those who do not.\n",
        "\n",
        "\n",
        "\n",
        "\n",
        "\n",
        "\n"
      ]
    },
    {
      "cell_type": "markdown",
      "metadata": {
        "deletable": false,
        "editable": false,
        "nbgrader": {
          "cell_type": "markdown",
          "checksum": "a870b47e0e095604d8378b6a16f26cc5",
          "grade": false,
          "grade_id": "cell-483bc2fff57780fa",
          "locked": true,
          "schema_version": 3,
          "solution": false,
          "task": false
        },
        "id": "ZlAKmp13kcqO"
      },
      "source": [
        "### 2.2) Short Answer: What would it mean to make a Type I error for this specific hypothesis test?\n",
        "\n",
        "Your answer should be _specific to this context,_  not a general statement of what Type I error is."
      ]
    },
    {
      "cell_type": "markdown",
      "metadata": {
        "deletable": false,
        "nbgrader": {
          "cell_type": "markdown",
          "checksum": "b5bac8819171661d286c16ba8f195e0b",
          "grade": true,
          "grade_id": "cell-f5e449677777b2fb",
          "locked": false,
          "points": 1,
          "schema_version": 3,
          "solution": true,
          "task": false
        },
        "id": "CIEFUhX-kcqO"
      },
      "source": [
        "A Type I error in this test would mean that there is a significant difference in the average check totals between customers who order queso and those who do not when, although this cannot happen in reality. It creates a false positive conclusion."
      ]
    },
    {
      "cell_type": "markdown",
      "metadata": {
        "deletable": false,
        "editable": false,
        "nbgrader": {
          "cell_type": "markdown",
          "checksum": "ee2e27c5c9bdbcd966942cb943f61c41",
          "grade": false,
          "grade_id": "cell-b044519654b42877",
          "locked": true,
          "schema_version": 3,
          "solution": false,
          "task": false
        },
        "id": "LRcWucbdkcqO"
      },
      "source": [
        "### 2.3) Create a numeric variable `p_value` containing the p-value associated with a statistical test of your hypotheses.\n",
        "\n",
        "You must identify and implement the correct statistical test for this scenario. You can assume the two samples have equal variances.\n",
        "\n",
        "Hint: Use `scipy.stats` to calculate the answer - it has already been imported as `stats`. Relevant documentation can be found [here](https://docs.scipy.org/doc/scipy/reference/stats.html#statistical-tests)."
      ]
    },
    {
      "cell_type": "markdown",
      "metadata": {
        "deletable": false,
        "editable": false,
        "nbgrader": {
          "cell_type": "markdown",
          "checksum": "900a4c639d929ee5a7a99e7697eebde8",
          "grade": false,
          "grade_id": "cell-db4a0aa68c4107d0",
          "locked": true,
          "schema_version": 3,
          "solution": false,
          "task": false
        },
        "id": "6TH6bS9ekcqO"
      },
      "source": [
        "**Starter Code**\n",
        "\n",
        "    p_value ="
      ]
    },
    {
      "cell_type": "code",
      "execution_count": null,
      "metadata": {
        "deletable": false,
        "nbgrader": {
          "cell_type": "code",
          "checksum": "51c2ea73483bdb4be860ca7fa1f73bcd",
          "grade": false,
          "grade_id": "cell-c2e90acfaebc8303",
          "locked": false,
          "schema_version": 3,
          "solution": true,
          "task": false
        },
        "id": "z8l-V_IFkcqO"
      },
      "outputs": [],
      "source": [
        "# YOUR CODE HERE\n",
        "raise NotImplementedError()"
      ]
    },
    {
      "cell_type": "code",
      "execution_count": null,
      "metadata": {
        "deletable": false,
        "editable": false,
        "nbgrader": {
          "cell_type": "code",
          "checksum": "b47e1749f5295698838e5d8f15986c18",
          "grade": true,
          "grade_id": "cell-2364f38312cbc15e",
          "locked": true,
          "points": 1,
          "schema_version": 3,
          "solution": false,
          "task": false
        },
        "id": "scLINGoAkcqP"
      },
      "outputs": [],
      "source": [
        "# These tests confirm that you have created a numeric variable named p_value\n",
        "\n",
        "assert isinstance(p_value, Number)\n"
      ]
    },
    {
      "cell_type": "markdown",
      "metadata": {
        "deletable": false,
        "editable": false,
        "nbgrader": {
          "cell_type": "markdown",
          "checksum": "08a4285de37397a9c81b50cb66a684ce",
          "grade": false,
          "grade_id": "cell-98db6e15784f2ead",
          "locked": true,
          "schema_version": 3,
          "solution": false,
          "task": false
        },
        "id": "CC6Ae7ykkcqP"
      },
      "source": [
        "### 2.4) Short Answer: Can you reject the null hypothesis using a significance level of $\\alpha$ = 0.05? Explain why or why not."
      ]
    },
    {
      "cell_type": "markdown",
      "metadata": {
        "deletable": false,
        "nbgrader": {
          "cell_type": "markdown",
          "checksum": "6ecae7cdf29817a870ec3a126ca71df5",
          "grade": true,
          "grade_id": "cell-92ea8835a9a326eb",
          "locked": false,
          "points": 1,
          "schema_version": 3,
          "solution": true,
          "task": false
        },
        "id": "gySe2AxdkcqP"
      },
      "source": [
        "YOUR ANSWER HERE"
      ]
    },
    {
      "cell_type": "markdown",
      "metadata": {
        "deletable": false,
        "editable": false,
        "nbgrader": {
          "cell_type": "markdown",
          "checksum": "616b8ca0c7dc2d5fab71d91d3e08b286",
          "grade": false,
          "grade_id": "cell-b6008343ed116f03",
          "locked": true,
          "schema_version": 3,
          "solution": false,
          "task": false
        },
        "id": "UhcP9BMWkcqP"
      },
      "source": [
        "---\n",
        "## Part 3: Bayesian Statistics [Suggested time: 15 minutes]\n",
        "---\n",
        "A medical test is designed to diagnose a certain disease. The test has a false positive rate of 10%, meaning that 10% of people without the disease will get a positive test result. The test has a false negative rate of 2%, meaning that 2% of people with the disease will get a negative result. Only 1% of the population has this disease."
      ]
    },
    {
      "cell_type": "markdown",
      "metadata": {
        "deletable": false,
        "editable": false,
        "nbgrader": {
          "cell_type": "markdown",
          "checksum": "57571bc58f322364949f857ace73ccd0",
          "grade": false,
          "grade_id": "cell-1e51fa364dcf5516",
          "locked": true,
          "schema_version": 3,
          "solution": false,
          "task": false
        },
        "id": "2JW5ch_BkcqP"
      },
      "source": [
        "### 3.1) Create a numeric variable `p_pos_test` containing the probability of a person receiving a positive test result.\n",
        "\n",
        "Assume that the person being tested is randomly selected from the broader population."
      ]
    },
    {
      "cell_type": "markdown",
      "metadata": {
        "deletable": false,
        "editable": false,
        "nbgrader": {
          "cell_type": "markdown",
          "checksum": "ba269f42f6f98a9135dec4e501201fd7",
          "grade": false,
          "grade_id": "cell-6c9a81af92dda9d0",
          "locked": true,
          "schema_version": 3,
          "solution": false,
          "task": false
        },
        "id": "b7dSwFLEkcqP"
      },
      "source": [
        "**Starter Code**\n",
        "    \n",
        "    false_pos_rate = 0.1\n",
        "    false_neg_rate = 0.02\n",
        "    population_rate = 0.01\n",
        "    \n",
        "    p_pos_test = 0.1088"
      ]
    },
    {
      "cell_type": "code",
      "execution_count": null,
      "metadata": {
        "deletable": false,
        "nbgrader": {
          "cell_type": "code",
          "checksum": "ce715dcb1f66cd3280c24110638af87a",
          "grade": false,
          "grade_id": "cell-30ff893c7c30f29d",
          "locked": false,
          "schema_version": 3,
          "solution": true,
          "task": false
        },
        "colab": {
          "base_uri": "https://localhost:8080/"
        },
        "id": "xyogeEVikcqQ",
        "outputId": "b6fc52e6-156a-4392-d140-190a60e2f00f"
      },
      "outputs": [
        {
          "output_type": "stream",
          "name": "stdout",
          "text": [
            "Probability of a positive test result: 0.10880000000000001\n"
          ]
        }
      ],
      "source": [
        "# YOUR CODE HERE\n",
        "false_positive_rate = 0.1\n",
        "false_negative_rate = 0.02\n",
        "population_rate = 0.01\n",
        "no_disease_prob = 1 - population_rate\n",
        "\n",
        "p_pos_test = (1 - false_negative_rate) * population_rate + false_positive_rate * no_disease_prob\n",
        "\n",
        "print(\"Probability of a positive test result:\", p_pos_test)\n",
        "\n"
      ]
    },
    {
      "cell_type": "code",
      "execution_count": null,
      "metadata": {
        "deletable": false,
        "editable": false,
        "nbgrader": {
          "cell_type": "code",
          "checksum": "aa0e56b1412d5de0a5407c344051fd15",
          "grade": true,
          "grade_id": "cell-2d49a1068c9e46b2",
          "locked": true,
          "points": 1,
          "schema_version": 3,
          "solution": false,
          "task": false
        },
        "id": "hWbGXFnmkcqQ"
      },
      "outputs": [],
      "source": [
        "# This test confirms that you have created a numeric variable named p_pos_test\n",
        "\n",
        "assert isinstance(p_pos_test, Number)\n",
        "\n",
        "# These tests confirm that p_pos_test is a value between 0 and 1\n",
        "\n",
        "assert p_pos_test >= 0\n",
        "assert p_pos_test <= 1\n"
      ]
    },
    {
      "cell_type": "markdown",
      "metadata": {
        "deletable": false,
        "editable": false,
        "nbgrader": {
          "cell_type": "markdown",
          "checksum": "da78fd029e3eb402f3d27c41353c67cf",
          "grade": false,
          "grade_id": "cell-57ed51c0909605eb",
          "locked": true,
          "schema_version": 3,
          "solution": false,
          "task": false
        },
        "id": "YEpxFzVqkcqQ"
      },
      "source": [
        "### 3.2) Create a numeric variable `p_pos_pos` containing the probability of a person actually having the disease if they receive a positive test result.\n",
        "\n",
        "Assume that the person being tested is randomly selected from the broader population.\n",
        "\n",
        "Hint: Use your answer to the previous question to help answer this one."
      ]
    },
    {
      "cell_type": "markdown",
      "metadata": {
        "deletable": false,
        "editable": false,
        "nbgrader": {
          "cell_type": "markdown",
          "checksum": "ab0045857079bd2c69149b45cebca939",
          "grade": false,
          "grade_id": "cell-434bfaff534cdd87",
          "locked": true,
          "schema_version": 3,
          "solution": false,
          "task": false
        },
        "id": "qFzK9evckcqQ"
      },
      "source": [
        "**Starter Code**\n",
        "    \n",
        "    false_pos_rate = 0.1\n",
        "    false_neg_rate = 0.02\n",
        "    population_rate = 0.01\n",
        "    \n",
        "    p_pos_pos = 0.09"
      ]
    },
    {
      "cell_type": "code",
      "execution_count": null,
      "metadata": {
        "deletable": false,
        "nbgrader": {
          "cell_type": "code",
          "checksum": "afd9175b88a0973dfb3f40b81177fa7e",
          "grade": false,
          "grade_id": "cell-742273642f14d1ab",
          "locked": false,
          "schema_version": 3,
          "solution": true,
          "task": false
        },
        "colab": {
          "base_uri": "https://localhost:8080/"
        },
        "id": "6VNla3a3kcqQ",
        "outputId": "a48bd422-8e47-40a6-8497-833ed48389d2"
      },
      "outputs": [
        {
          "output_type": "stream",
          "name": "stdout",
          "text": [
            "Probability of having the disease given a positive test result: 0.0900735294117647\n"
          ]
        }
      ],
      "source": [
        "# YOUR CODE HERE\n",
        "# Given values\n",
        "false_negative_rate = 0.02\n",
        "population_rate = 0.01\n",
        "\n",
        "p_positive_given_disease = 1 - false_negative_rate\n",
        "\n",
        "p_pos_test = 0.1088\n",
        "\n",
        "p_disease_given_pos_test = (p_positive_given_disease * population_rate) / p_pos_test\n",
        "\n",
        "p_pos_pos = p_disease_given_pos_test\n",
        "\n",
        "print(\"Probability of having the disease given a positive test result:\", p_pos_pos)\n",
        "\n",
        "\n"
      ]
    },
    {
      "cell_type": "code",
      "execution_count": null,
      "metadata": {
        "deletable": false,
        "editable": false,
        "nbgrader": {
          "cell_type": "code",
          "checksum": "17053819e58cd925e15b3b662068f41f",
          "grade": true,
          "grade_id": "cell-4825f55ab11b5fff",
          "locked": true,
          "points": 1,
          "schema_version": 3,
          "solution": false,
          "task": false
        },
        "id": "Vquor3LBkcqR"
      },
      "outputs": [],
      "source": [
        "# This test confirms that you have created a numeric variable named p_pos_pos\n",
        "\n",
        "assert isinstance(p_pos_pos, Number)\n",
        "\n",
        "# These tests confirm that p_pos_pos is a value between 0 and 1\n",
        "\n",
        "assert p_pos_pos >= 0\n",
        "assert p_pos_pos <= 1\n"
      ]
    },
    {
      "cell_type": "markdown",
      "metadata": {
        "deletable": false,
        "editable": false,
        "nbgrader": {
          "cell_type": "markdown",
          "checksum": "a945cb609ce28e48f6162403c9402e59",
          "grade": false,
          "grade_id": "cell-1a05b3141ee72061",
          "locked": true,
          "schema_version": 3,
          "solution": false,
          "task": false
        },
        "id": "JZJsC2FmkcqR"
      },
      "source": [
        "---\n",
        "\n",
        "## Part 4: Linear Regression [Suggested Time: 20 min]\n",
        "---\n",
        "\n",
        "In this section, you'll run regression models with advertising data. The dataset includes the advertising spending and sales for 200 products. These products are a random sample of 200 products from a larger population of products.\n",
        "\n",
        "The dataset has three features - `TV`, `radio`, and `newspaper` - that describe how many thousands of advertising dollars were spent promoting the product. The target, `sales`, describes how many millions of dollars in sales the product had."
      ]
    },
    {
      "cell_type": "code",
      "source": [
        "import pandas as pd\n",
        "\n",
        "data = pd.read_csv('/advertising.csv')\n"
      ],
      "metadata": {
        "id": "LWRWy7NJG55x"
      },
      "execution_count": 7,
      "outputs": []
    },
    {
      "cell_type": "code",
      "execution_count": 8,
      "metadata": {
        "deletable": false,
        "editable": false,
        "nbgrader": {
          "cell_type": "code",
          "checksum": "e2555a893f846cf68252c59671acf230",
          "grade": false,
          "grade_id": "cell-45da7df5e3f498ea",
          "locked": true,
          "schema_version": 3,
          "solution": false,
          "task": false
        },
        "id": "IO5N7Pokkcqc"
      },
      "outputs": [],
      "source": [
        "# Run this cell without changes\n",
        "\n",
        "import statsmodels\n",
        "import statsmodels.api as sm\n",
        "\n",
        "data = pd.read_csv('/advertising.csv').drop('Unnamed: 0', axis=1)\n",
        "X = data.drop('sales', axis=1)\n",
        "y = data['sales']"
      ]
    },
    {
      "cell_type": "markdown",
      "metadata": {
        "deletable": false,
        "editable": false,
        "nbgrader": {
          "cell_type": "markdown",
          "checksum": "d5dc71c2848cff87084a3af341adb39a",
          "grade": false,
          "grade_id": "cell-39615b71a29578f4",
          "locked": true,
          "schema_version": 3,
          "solution": false,
          "task": false
        },
        "id": "ZS3rz0kxkcqd"
      },
      "source": [
        "### 4.1) Create a variable `tv_mod_summ` containing the summary of a fit StatsModels `ols` model for a linear regression using `TV` to predict `sales`."
      ]
    },
    {
      "cell_type": "markdown",
      "metadata": {
        "deletable": false,
        "editable": false,
        "nbgrader": {
          "cell_type": "markdown",
          "checksum": "0405ddab1e709a81a2e225f488de1c0c",
          "grade": false,
          "grade_id": "cell-b3ec0c6cbb503015",
          "locked": true,
          "schema_version": 3,
          "solution": false,
          "task": false
        },
        "id": "Asan6maakcqd"
      },
      "source": [
        "**Starter Code**\n",
        "\n",
        "    tv_mod = ols(\n",
        "    tv_mod_summ = tv_mod.summary()"
      ]
    },
    {
      "cell_type": "code",
      "execution_count": null,
      "metadata": {
        "deletable": false,
        "nbgrader": {
          "cell_type": "code",
          "checksum": "0752a67e81f6de365fa0db1c236c9aef",
          "grade": false,
          "grade_id": "cell-86323454c9b2aa75",
          "locked": false,
          "schema_version": 3,
          "solution": true,
          "task": false
        },
        "id": "4VteIsQ-kcqd",
        "colab": {
          "base_uri": "https://localhost:8080/"
        },
        "outputId": "cb9ede87-1dc8-4090-ac37-019757f9070c"
      },
      "outputs": [
        {
          "output_type": "stream",
          "name": "stdout",
          "text": [
            "                            OLS Regression Results                            \n",
            "==============================================================================\n",
            "Dep. Variable:                  sales   R-squared:                       0.612\n",
            "Model:                            OLS   Adj. R-squared:                  0.610\n",
            "Method:                 Least Squares   F-statistic:                     312.1\n",
            "Date:                Sun, 17 Dec 2023   Prob (F-statistic):           1.47e-42\n",
            "Time:                        19:10:36   Log-Likelihood:                -519.05\n",
            "No. Observations:                 200   AIC:                             1042.\n",
            "Df Residuals:                     198   BIC:                             1049.\n",
            "Df Model:                           1                                         \n",
            "Covariance Type:            nonrobust                                         \n",
            "==============================================================================\n",
            "                 coef    std err          t      P>|t|      [0.025      0.975]\n",
            "------------------------------------------------------------------------------\n",
            "Intercept      7.0326      0.458     15.360      0.000       6.130       7.935\n",
            "TV             0.0475      0.003     17.668      0.000       0.042       0.053\n",
            "==============================================================================\n",
            "Omnibus:                        0.531   Durbin-Watson:                   1.935\n",
            "Prob(Omnibus):                  0.767   Jarque-Bera (JB):                0.669\n",
            "Skew:                          -0.089   Prob(JB):                        0.716\n",
            "Kurtosis:                       2.779   Cond. No.                         338.\n",
            "==============================================================================\n",
            "\n",
            "Notes:\n",
            "[1] Standard Errors assume that the covariance matrix of the errors is correctly specified.\n"
          ]
        }
      ],
      "source": [
        "# YOUR CODE HERE\n",
        "import pandas as pd\n",
        "from statsmodels.formula.api import ols\n",
        "\n",
        "data = pd.read_csv('./advertising.csv').drop('Unnamed: 0', axis=1)\n",
        "\n",
        "tv_mod = ols('sales ~ TV', data=data).fit()\n",
        "\n",
        "tv_mod_summ = tv_mod.summary()\n",
        "\n",
        "print(tv_mod_summ)\n",
        "\n"
      ]
    },
    {
      "cell_type": "code",
      "execution_count": null,
      "metadata": {
        "deletable": false,
        "editable": false,
        "nbgrader": {
          "cell_type": "code",
          "checksum": "ffafdeec0c626c70d3d887a05ab39b3e",
          "grade": true,
          "grade_id": "cell-84e163360346b9f6",
          "locked": true,
          "points": 1,
          "schema_version": 3,
          "solution": false,
          "task": false
        },
        "id": "qbjVK7dnkcqd",
        "colab": {
          "base_uri": "https://localhost:8080/"
        },
        "outputId": "46aa33f3-f880-42cf-f3d3-69abd4f4acc5"
      },
      "outputs": [
        {
          "output_type": "stream",
          "name": "stdout",
          "text": [
            "                            OLS Regression Results                            \n",
            "==============================================================================\n",
            "Dep. Variable:                  sales   R-squared:                       0.612\n",
            "Model:                            OLS   Adj. R-squared:                  0.610\n",
            "Method:                 Least Squares   F-statistic:                     312.1\n",
            "Date:                Sun, 17 Dec 2023   Prob (F-statistic):           1.47e-42\n",
            "Time:                        19:10:36   Log-Likelihood:                -519.05\n",
            "No. Observations:                 200   AIC:                             1042.\n",
            "Df Residuals:                     198   BIC:                             1049.\n",
            "Df Model:                           1                                         \n",
            "Covariance Type:            nonrobust                                         \n",
            "==============================================================================\n",
            "                 coef    std err          t      P>|t|      [0.025      0.975]\n",
            "------------------------------------------------------------------------------\n",
            "Intercept      7.0326      0.458     15.360      0.000       6.130       7.935\n",
            "TV             0.0475      0.003     17.668      0.000       0.042       0.053\n",
            "==============================================================================\n",
            "Omnibus:                        0.531   Durbin-Watson:                   1.935\n",
            "Prob(Omnibus):                  0.767   Jarque-Bera (JB):                0.669\n",
            "Skew:                          -0.089   Prob(JB):                        0.716\n",
            "Kurtosis:                       2.779   Cond. No.                         338.\n",
            "==============================================================================\n",
            "\n",
            "Notes:\n",
            "[1] Standard Errors assume that the covariance matrix of the errors is correctly specified.\n"
          ]
        }
      ],
      "source": [
        "# This test confirms that you have created a variable named tv_mod_summ containing a StatsModels Summary\n",
        "\n",
        "assert type(tv_mod_summ) == statsmodels.iolib.summary.Summary\n",
        "\n",
        "# This statement prints your answer for reference to help answer the next question\n",
        "\n",
        "print(tv_mod_summ)\n"
      ]
    },
    {
      "cell_type": "markdown",
      "metadata": {
        "deletable": false,
        "editable": false,
        "nbgrader": {
          "cell_type": "markdown",
          "checksum": "beb6379cd376167db9e17a4e107af57b",
          "grade": false,
          "grade_id": "cell-5f3e1d2cefd52126",
          "locked": true,
          "schema_version": 3,
          "solution": false,
          "task": false
        },
        "id": "o_x3MwoZkcqd"
      },
      "source": [
        "### 4.2) Short Answer: Is there a statistically significant relationship between TV advertising spend and sales in this model? How did you determine this from the model output?\n",
        "\n",
        "This question is asking you to use your findings from the sample in your dataset to make an inference about the relationship between TV advertising spend and sales in the broader population."
      ]
    },
    {
      "cell_type": "markdown",
      "metadata": {
        "deletable": false,
        "nbgrader": {
          "cell_type": "markdown",
          "checksum": "59f6b64c158b539b5af6131086919aa7",
          "grade": true,
          "grade_id": "cell-ebd4cb97464e0212",
          "locked": false,
          "points": 1,
          "schema_version": 3,
          "solution": true,
          "task": false
        },
        "id": "0ubQzCuRkcqe"
      },
      "source": [
        "Yes. This is because the significant relationship is determined by the 'p-value'in relationship with the 'TV'variable. When the 'p-value'is less than a 0.05 significance level, then there is a close relationship."
      ]
    },
    {
      "cell_type": "markdown",
      "metadata": {
        "deletable": false,
        "editable": false,
        "nbgrader": {
          "cell_type": "markdown",
          "checksum": "3d1ca8d264a4765de254bf3c3e829980",
          "grade": false,
          "grade_id": "cell-f9264f78a47488f9",
          "locked": true,
          "schema_version": 3,
          "solution": false,
          "task": false
        },
        "id": "A86nvDqckcqe"
      },
      "source": [
        "### 4.3) Short Answer: Run the cell below to produce a correlation matrix. Given the output, would you expect any collinearity issues if you included all of these features in one regression model?"
      ]
    },
    {
      "cell_type": "code",
      "execution_count": null,
      "metadata": {
        "deletable": false,
        "editable": false,
        "nbgrader": {
          "cell_type": "code",
          "checksum": "faa9ab593ab402d6fd10a32edded417e",
          "grade": false,
          "grade_id": "cell-b6ced64fabee1fc2",
          "locked": true,
          "schema_version": 3,
          "solution": false,
          "task": false
        },
        "id": "4uosR5JAkcqe",
        "colab": {
          "base_uri": "https://localhost:8080/",
          "height": 143
        },
        "outputId": "1ba0d16b-cf3a-4959-8612-aa1822ffd5fa"
      },
      "outputs": [
        {
          "output_type": "execute_result",
          "data": {
            "text/plain": [
              "                 TV     radio  newspaper\n",
              "TV         1.000000  0.054809   0.056648\n",
              "radio      0.054809  1.000000   0.354104\n",
              "newspaper  0.056648  0.354104   1.000000"
            ],
            "text/html": [
              "\n",
              "  <div id=\"df-8895fdeb-cd5b-4522-bfaf-084ac7e3164c\" class=\"colab-df-container\">\n",
              "    <div>\n",
              "<style scoped>\n",
              "    .dataframe tbody tr th:only-of-type {\n",
              "        vertical-align: middle;\n",
              "    }\n",
              "\n",
              "    .dataframe tbody tr th {\n",
              "        vertical-align: top;\n",
              "    }\n",
              "\n",
              "    .dataframe thead th {\n",
              "        text-align: right;\n",
              "    }\n",
              "</style>\n",
              "<table border=\"1\" class=\"dataframe\">\n",
              "  <thead>\n",
              "    <tr style=\"text-align: right;\">\n",
              "      <th></th>\n",
              "      <th>TV</th>\n",
              "      <th>radio</th>\n",
              "      <th>newspaper</th>\n",
              "    </tr>\n",
              "  </thead>\n",
              "  <tbody>\n",
              "    <tr>\n",
              "      <th>TV</th>\n",
              "      <td>1.000000</td>\n",
              "      <td>0.054809</td>\n",
              "      <td>0.056648</td>\n",
              "    </tr>\n",
              "    <tr>\n",
              "      <th>radio</th>\n",
              "      <td>0.054809</td>\n",
              "      <td>1.000000</td>\n",
              "      <td>0.354104</td>\n",
              "    </tr>\n",
              "    <tr>\n",
              "      <th>newspaper</th>\n",
              "      <td>0.056648</td>\n",
              "      <td>0.354104</td>\n",
              "      <td>1.000000</td>\n",
              "    </tr>\n",
              "  </tbody>\n",
              "</table>\n",
              "</div>\n",
              "    <div class=\"colab-df-buttons\">\n",
              "\n",
              "  <div class=\"colab-df-container\">\n",
              "    <button class=\"colab-df-convert\" onclick=\"convertToInteractive('df-8895fdeb-cd5b-4522-bfaf-084ac7e3164c')\"\n",
              "            title=\"Convert this dataframe to an interactive table.\"\n",
              "            style=\"display:none;\">\n",
              "\n",
              "  <svg xmlns=\"http://www.w3.org/2000/svg\" height=\"24px\" viewBox=\"0 -960 960 960\">\n",
              "    <path d=\"M120-120v-720h720v720H120Zm60-500h600v-160H180v160Zm220 220h160v-160H400v160Zm0 220h160v-160H400v160ZM180-400h160v-160H180v160Zm440 0h160v-160H620v160ZM180-180h160v-160H180v160Zm440 0h160v-160H620v160Z\"/>\n",
              "  </svg>\n",
              "    </button>\n",
              "\n",
              "  <style>\n",
              "    .colab-df-container {\n",
              "      display:flex;\n",
              "      gap: 12px;\n",
              "    }\n",
              "\n",
              "    .colab-df-convert {\n",
              "      background-color: #E8F0FE;\n",
              "      border: none;\n",
              "      border-radius: 50%;\n",
              "      cursor: pointer;\n",
              "      display: none;\n",
              "      fill: #1967D2;\n",
              "      height: 32px;\n",
              "      padding: 0 0 0 0;\n",
              "      width: 32px;\n",
              "    }\n",
              "\n",
              "    .colab-df-convert:hover {\n",
              "      background-color: #E2EBFA;\n",
              "      box-shadow: 0px 1px 2px rgba(60, 64, 67, 0.3), 0px 1px 3px 1px rgba(60, 64, 67, 0.15);\n",
              "      fill: #174EA6;\n",
              "    }\n",
              "\n",
              "    .colab-df-buttons div {\n",
              "      margin-bottom: 4px;\n",
              "    }\n",
              "\n",
              "    [theme=dark] .colab-df-convert {\n",
              "      background-color: #3B4455;\n",
              "      fill: #D2E3FC;\n",
              "    }\n",
              "\n",
              "    [theme=dark] .colab-df-convert:hover {\n",
              "      background-color: #434B5C;\n",
              "      box-shadow: 0px 1px 3px 1px rgba(0, 0, 0, 0.15);\n",
              "      filter: drop-shadow(0px 1px 2px rgba(0, 0, 0, 0.3));\n",
              "      fill: #FFFFFF;\n",
              "    }\n",
              "  </style>\n",
              "\n",
              "    <script>\n",
              "      const buttonEl =\n",
              "        document.querySelector('#df-8895fdeb-cd5b-4522-bfaf-084ac7e3164c button.colab-df-convert');\n",
              "      buttonEl.style.display =\n",
              "        google.colab.kernel.accessAllowed ? 'block' : 'none';\n",
              "\n",
              "      async function convertToInteractive(key) {\n",
              "        const element = document.querySelector('#df-8895fdeb-cd5b-4522-bfaf-084ac7e3164c');\n",
              "        const dataTable =\n",
              "          await google.colab.kernel.invokeFunction('convertToInteractive',\n",
              "                                                    [key], {});\n",
              "        if (!dataTable) return;\n",
              "\n",
              "        const docLinkHtml = 'Like what you see? Visit the ' +\n",
              "          '<a target=\"_blank\" href=https://colab.research.google.com/notebooks/data_table.ipynb>data table notebook</a>'\n",
              "          + ' to learn more about interactive tables.';\n",
              "        element.innerHTML = '';\n",
              "        dataTable['output_type'] = 'display_data';\n",
              "        await google.colab.output.renderOutput(dataTable, element);\n",
              "        const docLink = document.createElement('div');\n",
              "        docLink.innerHTML = docLinkHtml;\n",
              "        element.appendChild(docLink);\n",
              "      }\n",
              "    </script>\n",
              "  </div>\n",
              "\n",
              "\n",
              "<div id=\"df-c2bcd6de-e2b4-4d25-82e6-9923ad1df010\">\n",
              "  <button class=\"colab-df-quickchart\" onclick=\"quickchart('df-c2bcd6de-e2b4-4d25-82e6-9923ad1df010')\"\n",
              "            title=\"Suggest charts\"\n",
              "            style=\"display:none;\">\n",
              "\n",
              "<svg xmlns=\"http://www.w3.org/2000/svg\" height=\"24px\"viewBox=\"0 0 24 24\"\n",
              "     width=\"24px\">\n",
              "    <g>\n",
              "        <path d=\"M19 3H5c-1.1 0-2 .9-2 2v14c0 1.1.9 2 2 2h14c1.1 0 2-.9 2-2V5c0-1.1-.9-2-2-2zM9 17H7v-7h2v7zm4 0h-2V7h2v10zm4 0h-2v-4h2v4z\"/>\n",
              "    </g>\n",
              "</svg>\n",
              "  </button>\n",
              "\n",
              "<style>\n",
              "  .colab-df-quickchart {\n",
              "      --bg-color: #E8F0FE;\n",
              "      --fill-color: #1967D2;\n",
              "      --hover-bg-color: #E2EBFA;\n",
              "      --hover-fill-color: #174EA6;\n",
              "      --disabled-fill-color: #AAA;\n",
              "      --disabled-bg-color: #DDD;\n",
              "  }\n",
              "\n",
              "  [theme=dark] .colab-df-quickchart {\n",
              "      --bg-color: #3B4455;\n",
              "      --fill-color: #D2E3FC;\n",
              "      --hover-bg-color: #434B5C;\n",
              "      --hover-fill-color: #FFFFFF;\n",
              "      --disabled-bg-color: #3B4455;\n",
              "      --disabled-fill-color: #666;\n",
              "  }\n",
              "\n",
              "  .colab-df-quickchart {\n",
              "    background-color: var(--bg-color);\n",
              "    border: none;\n",
              "    border-radius: 50%;\n",
              "    cursor: pointer;\n",
              "    display: none;\n",
              "    fill: var(--fill-color);\n",
              "    height: 32px;\n",
              "    padding: 0;\n",
              "    width: 32px;\n",
              "  }\n",
              "\n",
              "  .colab-df-quickchart:hover {\n",
              "    background-color: var(--hover-bg-color);\n",
              "    box-shadow: 0 1px 2px rgba(60, 64, 67, 0.3), 0 1px 3px 1px rgba(60, 64, 67, 0.15);\n",
              "    fill: var(--button-hover-fill-color);\n",
              "  }\n",
              "\n",
              "  .colab-df-quickchart-complete:disabled,\n",
              "  .colab-df-quickchart-complete:disabled:hover {\n",
              "    background-color: var(--disabled-bg-color);\n",
              "    fill: var(--disabled-fill-color);\n",
              "    box-shadow: none;\n",
              "  }\n",
              "\n",
              "  .colab-df-spinner {\n",
              "    border: 2px solid var(--fill-color);\n",
              "    border-color: transparent;\n",
              "    border-bottom-color: var(--fill-color);\n",
              "    animation:\n",
              "      spin 1s steps(1) infinite;\n",
              "  }\n",
              "\n",
              "  @keyframes spin {\n",
              "    0% {\n",
              "      border-color: transparent;\n",
              "      border-bottom-color: var(--fill-color);\n",
              "      border-left-color: var(--fill-color);\n",
              "    }\n",
              "    20% {\n",
              "      border-color: transparent;\n",
              "      border-left-color: var(--fill-color);\n",
              "      border-top-color: var(--fill-color);\n",
              "    }\n",
              "    30% {\n",
              "      border-color: transparent;\n",
              "      border-left-color: var(--fill-color);\n",
              "      border-top-color: var(--fill-color);\n",
              "      border-right-color: var(--fill-color);\n",
              "    }\n",
              "    40% {\n",
              "      border-color: transparent;\n",
              "      border-right-color: var(--fill-color);\n",
              "      border-top-color: var(--fill-color);\n",
              "    }\n",
              "    60% {\n",
              "      border-color: transparent;\n",
              "      border-right-color: var(--fill-color);\n",
              "    }\n",
              "    80% {\n",
              "      border-color: transparent;\n",
              "      border-right-color: var(--fill-color);\n",
              "      border-bottom-color: var(--fill-color);\n",
              "    }\n",
              "    90% {\n",
              "      border-color: transparent;\n",
              "      border-bottom-color: var(--fill-color);\n",
              "    }\n",
              "  }\n",
              "</style>\n",
              "\n",
              "  <script>\n",
              "    async function quickchart(key) {\n",
              "      const quickchartButtonEl =\n",
              "        document.querySelector('#' + key + ' button');\n",
              "      quickchartButtonEl.disabled = true;  // To prevent multiple clicks.\n",
              "      quickchartButtonEl.classList.add('colab-df-spinner');\n",
              "      try {\n",
              "        const charts = await google.colab.kernel.invokeFunction(\n",
              "            'suggestCharts', [key], {});\n",
              "      } catch (error) {\n",
              "        console.error('Error during call to suggestCharts:', error);\n",
              "      }\n",
              "      quickchartButtonEl.classList.remove('colab-df-spinner');\n",
              "      quickchartButtonEl.classList.add('colab-df-quickchart-complete');\n",
              "    }\n",
              "    (() => {\n",
              "      let quickchartButtonEl =\n",
              "        document.querySelector('#df-c2bcd6de-e2b4-4d25-82e6-9923ad1df010 button');\n",
              "      quickchartButtonEl.style.display =\n",
              "        google.colab.kernel.accessAllowed ? 'block' : 'none';\n",
              "    })();\n",
              "  </script>\n",
              "</div>\n",
              "    </div>\n",
              "  </div>\n"
            ]
          },
          "metadata": {},
          "execution_count": 37
        }
      ],
      "source": [
        "# Run this cell\n",
        "\n",
        "X.corr()"
      ]
    },
    {
      "cell_type": "markdown",
      "metadata": {
        "deletable": false,
        "nbgrader": {
          "cell_type": "markdown",
          "checksum": "c163fcec740c26c3600bd9131abf285d",
          "grade": true,
          "grade_id": "cell-c1e98a26b16748b1",
          "locked": false,
          "points": 1,
          "schema_version": 3,
          "solution": true,
          "task": false
        },
        "id": "RE_pDGDNkcqe"
      },
      "source": [
        "no. If you observe high absolute values (close to 1) in the correlation matrix between pairs of independent variables, it suggests potential collinearity. Thus we can assume there is NO collinearity."
      ]
    },
    {
      "cell_type": "markdown",
      "metadata": {
        "deletable": false,
        "editable": false,
        "nbgrader": {
          "cell_type": "markdown",
          "checksum": "87aef8737d9fdac8a6f10f61b6f9f51e",
          "grade": false,
          "grade_id": "cell-7bcdb87b7dd93748",
          "locked": true,
          "schema_version": 3,
          "solution": false,
          "task": false
        },
        "id": "W0_2vDeqkcqf"
      },
      "source": [
        "### 4.4) Create a variable `all_mod_summ` containing the summary of a fit StatsModels `ols` model for a multiple regression using `TV`, `radio`, and `newspaper` to predict `sales`."
      ]
    },
    {
      "cell_type": "markdown",
      "metadata": {
        "deletable": false,
        "editable": false,
        "nbgrader": {
          "cell_type": "markdown",
          "checksum": "a12cf310626e668b2b2a1e0185821686",
          "grade": false,
          "grade_id": "cell-4e8fd52f37265258",
          "locked": true,
          "schema_version": 3,
          "solution": false,
          "task": false
        },
        "id": "f77eqpO6kcqf"
      },
      "source": [
        "**Starter Code**\n",
        "\n",
        "    all_mod = ols(\n",
        "    all_mod_summ = all_mod.summary()"
      ]
    },
    {
      "cell_type": "code",
      "execution_count": null,
      "metadata": {
        "deletable": false,
        "nbgrader": {
          "cell_type": "code",
          "checksum": "0aa0994fddf23e90f0bed7c5e783f373",
          "grade": false,
          "grade_id": "cell-a9cc84d7d7666b0f",
          "locked": false,
          "schema_version": 3,
          "solution": true,
          "task": false
        },
        "id": "PcRARKbckcqf",
        "colab": {
          "base_uri": "https://localhost:8080/"
        },
        "outputId": "9803aa7e-ae2f-482e-ac8b-5de54768777f"
      },
      "outputs": [
        {
          "output_type": "stream",
          "name": "stdout",
          "text": [
            "                            OLS Regression Results                            \n",
            "==============================================================================\n",
            "Dep. Variable:                  sales   R-squared:                       0.897\n",
            "Model:                            OLS   Adj. R-squared:                  0.896\n",
            "Method:                 Least Squares   F-statistic:                     570.3\n",
            "Date:                Sun, 17 Dec 2023   Prob (F-statistic):           1.58e-96\n",
            "Time:                        20:17:50   Log-Likelihood:                -386.18\n",
            "No. Observations:                 200   AIC:                             780.4\n",
            "Df Residuals:                     196   BIC:                             793.6\n",
            "Df Model:                           3                                         \n",
            "Covariance Type:            nonrobust                                         \n",
            "==============================================================================\n",
            "                 coef    std err          t      P>|t|      [0.025      0.975]\n",
            "------------------------------------------------------------------------------\n",
            "Intercept      2.9389      0.312      9.422      0.000       2.324       3.554\n",
            "TV             0.0458      0.001     32.809      0.000       0.043       0.049\n",
            "radio          0.1885      0.009     21.893      0.000       0.172       0.206\n",
            "newspaper     -0.0010      0.006     -0.177      0.860      -0.013       0.011\n",
            "==============================================================================\n",
            "Omnibus:                       60.414   Durbin-Watson:                   2.084\n",
            "Prob(Omnibus):                  0.000   Jarque-Bera (JB):              151.241\n",
            "Skew:                          -1.327   Prob(JB):                     1.44e-33\n",
            "Kurtosis:                       6.332   Cond. No.                         454.\n",
            "==============================================================================\n",
            "\n",
            "Notes:\n",
            "[1] Standard Errors assume that the covariance matrix of the errors is correctly specified.\n",
            "\n",
            "Correlation Matrix:\n",
            "                 TV     radio  newspaper\n",
            "TV         1.000000  0.054809   0.056648\n",
            "radio      0.054809  1.000000   0.354104\n",
            "newspaper  0.056648  0.354104   1.000000\n",
            "\n",
            "No highly correlated variable pairs found.\n"
          ]
        }
      ],
      "source": [
        "# YOUR CODE HERE\n",
        "import pandas as pd\n",
        "from statsmodels.formula.api import ols\n",
        "\n",
        "formula = 'sales ~ TV + radio + newspaper'\n",
        "\n",
        "all_mod = ols(formula, data=data).fit()\n",
        "\n",
        "all_mod_summ = all_mod.summary()\n",
        "\n",
        "print(all_mod_summ)\n",
        "\n",
        "correlation_matrix = data[['TV', 'radio', 'newspaper']].corr()\n",
        "\n",
        "print(\"\\nCorrelation Matrix:\")\n",
        "print(correlation_matrix)\n",
        "\n",
        "threshold = 0.8\n",
        "\n",
        "highly_correlated_pairs = []\n",
        "\n",
        "# Iterate through the correlation matrix\n",
        "for i in range(len(correlation_matrix.columns)):\n",
        "    for j in range(i + 1, len(correlation_matrix.columns)):\n",
        "        if abs(correlation_matrix.iloc[i, j]) > threshold:\n",
        "            pair = (correlation_matrix.columns[i], correlation_matrix.columns[j])\n",
        "            highly_correlated_pairs.append(pair)\n",
        "\n",
        "# Display highly correlated pairs\n",
        "if len(highly_correlated_pairs) > 0:\n",
        "    print(\"\\nHighly Correlated Variable Pairs:\")\n",
        "    for pair in highly_correlated_pairs:\n",
        "        print(f\"{pair[0]} and {pair[1]}\")\n",
        "else:\n",
        "    print(\"\\nNo highly correlated variable pairs found.\")"
      ]
    },
    {
      "cell_type": "code",
      "execution_count": null,
      "metadata": {
        "deletable": false,
        "editable": false,
        "nbgrader": {
          "cell_type": "code",
          "checksum": "a214461dd32c57c7f59aed4d420e5468",
          "grade": true,
          "grade_id": "cell-1f7f745c780b07b6",
          "locked": true,
          "points": 1,
          "schema_version": 3,
          "solution": false,
          "task": false
        },
        "id": "IuI9nyNFkcqf",
        "colab": {
          "base_uri": "https://localhost:8080/"
        },
        "outputId": "b467a97b-77fe-4105-c64b-8278956f157c"
      },
      "outputs": [
        {
          "output_type": "stream",
          "name": "stdout",
          "text": [
            "                            OLS Regression Results                            \n",
            "==============================================================================\n",
            "Dep. Variable:                  sales   R-squared:                       0.897\n",
            "Model:                            OLS   Adj. R-squared:                  0.896\n",
            "Method:                 Least Squares   F-statistic:                     570.3\n",
            "Date:                Sun, 17 Dec 2023   Prob (F-statistic):           1.58e-96\n",
            "Time:                        20:04:16   Log-Likelihood:                -386.18\n",
            "No. Observations:                 200   AIC:                             780.4\n",
            "Df Residuals:                     196   BIC:                             793.6\n",
            "Df Model:                           3                                         \n",
            "Covariance Type:            nonrobust                                         \n",
            "==============================================================================\n",
            "                 coef    std err          t      P>|t|      [0.025      0.975]\n",
            "------------------------------------------------------------------------------\n",
            "Intercept      2.9389      0.312      9.422      0.000       2.324       3.554\n",
            "TV             0.0458      0.001     32.809      0.000       0.043       0.049\n",
            "radio          0.1885      0.009     21.893      0.000       0.172       0.206\n",
            "newspaper     -0.0010      0.006     -0.177      0.860      -0.013       0.011\n",
            "==============================================================================\n",
            "Omnibus:                       60.414   Durbin-Watson:                   2.084\n",
            "Prob(Omnibus):                  0.000   Jarque-Bera (JB):              151.241\n",
            "Skew:                          -1.327   Prob(JB):                     1.44e-33\n",
            "Kurtosis:                       6.332   Cond. No.                         454.\n",
            "==============================================================================\n",
            "\n",
            "Notes:\n",
            "[1] Standard Errors assume that the covariance matrix of the errors is correctly specified.\n"
          ]
        }
      ],
      "source": [
        "# This test confirms that you have created a variable named all_mod_summ containing a StatsModels Summary\n",
        "\n",
        "assert type(all_mod_summ) == statsmodels.iolib.summary.Summary\n",
        "\n",
        "# This statement prints your answer for reference to help answer the next question\n",
        "\n",
        "print(all_mod_summ)\n"
      ]
    },
    {
      "cell_type": "markdown",
      "metadata": {
        "deletable": false,
        "editable": false,
        "nbgrader": {
          "cell_type": "markdown",
          "checksum": "0564c6a983233eaefeebe898c1aa754c",
          "grade": false,
          "grade_id": "cell-11c269bfe15e7f49",
          "locked": true,
          "schema_version": 3,
          "solution": false,
          "task": false
        },
        "id": "FhdYPg0akcqg"
      },
      "source": [
        "### 4.5) Short Answer: Does this model do a better job of explaining sales than the previous model using only the `TV` feature? Explain how you determined this based on the model output."
      ]
    },
    {
      "cell_type": "markdown",
      "metadata": {
        "deletable": false,
        "nbgrader": {
          "cell_type": "markdown",
          "checksum": "a7133c8c0af065954fc2eb9c89d91d33",
          "grade": true,
          "grade_id": "cell-7e27f10fcaaed6a9",
          "locked": false,
          "points": 1,
          "schema_version": 3,
          "solution": true,
          "task": false
        },
        "id": "36r-czr-kcqg"
      },
      "source": [
        "Yes. we are given the information in the notes."
      ]
    }
  ],
  "metadata": {
    "kernelspec": {
      "display_name": "Python 3",
      "language": "python",
      "name": "python3"
    },
    "language_info": {
      "codemirror_mode": {
        "name": "ipython",
        "version": 3
      },
      "file_extension": ".py",
      "mimetype": "text/x-python",
      "name": "python",
      "nbconvert_exporter": "python",
      "pygments_lexer": "ipython3",
      "version": "3.8.5"
    },
    "toc": {
      "base_numbering": 1,
      "nav_menu": {},
      "number_sections": true,
      "sideBar": true,
      "skip_h1_title": false,
      "title_cell": "Table of Contents",
      "title_sidebar": "Contents",
      "toc_cell": false,
      "toc_position": {},
      "toc_section_display": true,
      "toc_window_display": false
    },
    "colab": {
      "provenance": [],
      "include_colab_link": true
    }
  },
  "nbformat": 4,
  "nbformat_minor": 0
}